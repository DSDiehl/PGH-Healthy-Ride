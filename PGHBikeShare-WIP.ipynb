{
 "cells": [
  {
   "cell_type": "markdown",
   "metadata": {},
   "source": [
    "Marcus Diehl\n",
    "PGH Heathly Ride\n",
    "\n",
    "Starting off with the importation of Pandas"
   ]
  },
  {
   "cell_type": "code",
   "execution_count": 1,
   "metadata": {
    "collapsed": true
   },
   "outputs": [],
   "source": [
    "import pandas as pd"
   ]
  },
  {
   "cell_type": "raw",
   "metadata": {},
   "source": [
    "The data comes in Finacial Quaters for the past 3 years. so 12 files of Rentals and Stations\n",
    "\n",
    "When extracted, they made their own folders:\n",
    "2015-Q2\n",
    "2015-Q3\n",
    "2015-Q4\n",
    "2016-Q1\n",
    "....\n",
    "\n",
    "You get the idea\n",
    "\n",
    "So instead of doing manual work in combining them, I fgured I would try to read them at once with \n",
    "hopefully a single command, but possibly a loop. This way as the next Q comes in, just a simply extract and done\n",
    "\n",
    "found this link\n",
    "https://stackoverflow.com/questions/20906474/import-multiple-csv-files-into-pandas-and-concatenate-into-one-dataframe\n",
    "and this one\n",
    "https://stackoverflow.com/questions/39838332/reading-multiple-csv-files-from-different-directories-into-pandas-dataframe\n",
    "\n",
    "and combined the answeres below"
   ]
  },
  {
   "cell_type": "markdown",
   "metadata": {},
   "source": [
    "Broken into parts to confirm I'm getting everything\n",
    "here we scan for CSV files from a parent folder and all roots"
   ]
  },
  {
   "cell_type": "code",
   "execution_count": 12,
   "metadata": {
    "collapsed": false
   },
   "outputs": [],
   "source": [
    "import os\n",
    "\n",
    "parent_dir = '.'\n",
    "subject_dirs = [os.path.join(parent_dir, dir) for dir in os.listdir(parent_dir) if os.path.isdir(os.path.join(parent_dir, dir))]\n",
    "\n",
    "filelist = []\n",
    "for dir in subject_dirs:\n",
    "    csv_files = [os.path.join(dir, csv) for csv in os.listdir(dir) if os.path.isfile(os.path.join(dir, csv)) and csv.endswith('.csv')]\n",
    "    for file in csv_files:\n",
    "        filelist.append(file)\n",
    "#rentals_df = pd.read_csv('rentals.csv', encoding='latin-1')"
   ]
  },
  {
   "cell_type": "code",
   "execution_count": 13,
   "metadata": {
    "collapsed": false
   },
   "outputs": [
    {
     "data": {
      "text/plain": [
       "['.\\\\2015-Q2\\\\HealthyRide Rentals 2015 Q2.csv',\n",
       " '.\\\\2015-Q2\\\\HealthyRideStations2015.csv',\n",
       " '.\\\\2015-Q3\\\\HealthyRide Rentals 2015 Q3.csv',\n",
       " '.\\\\2015-Q3\\\\HealthyRideStations2015.csv',\n",
       " '.\\\\2015-Q4\\\\HealthyRide Rentals 2015 Q4.csv',\n",
       " '.\\\\2015-Q4\\\\HealthyRideStations2015.csv',\n",
       " '.\\\\2016-Q1\\\\HealthyRide Rentals 2016 Q1.csv',\n",
       " '.\\\\2016-Q1\\\\HealthyRideStations2016.csv',\n",
       " '.\\\\2016-Q2\\\\HealthyRide Rentals 2016 Q2.csv',\n",
       " '.\\\\2016-Q2\\\\HealthyRideStations2016.csv',\n",
       " '.\\\\2016-Q3\\\\HealthyRide Rentals 2016 Q3.csv',\n",
       " '.\\\\2016-Q3\\\\HealthyRideStations2016.csv',\n",
       " '.\\\\2016-Q4\\\\HealthyRide Rentals 2016 Q4.csv',\n",
       " '.\\\\2016-Q4\\\\HealthyRideStations2016.csv',\n",
       " '.\\\\2017-Q1\\\\Healthy Ride Rentals 2017-Q1.csv',\n",
       " '.\\\\2017-Q1\\\\HealthyRideStations2017.csv',\n",
       " '.\\\\2017-Q2\\\\Healthy Ride Rentals 2017-Q2.csv',\n",
       " '.\\\\2017-Q2\\\\HealthyRideStations2017.csv']"
      ]
     },
     "execution_count": 13,
     "metadata": {},
     "output_type": "execute_result"
    }
   ],
   "source": [
    "filelist"
   ]
  },
  {
   "cell_type": "markdown",
   "metadata": {},
   "source": [
    "It worked, but we've grabbed all the 'Stations' files as well, and don't need those just yet\n",
    "But interesting that the file names for the stations don't include the quarter, just the year.\n",
    "\n",
    "So now exclude the stations and read the contents into a single Panda DataFrame"
   ]
  },
  {
   "cell_type": "code",
   "execution_count": 7,
   "metadata": {
    "collapsed": false
   },
   "outputs": [],
   "source": [
    "rentals_df = pd.DataFrame()\n",
    "list_ = []\n",
    "for file_ in filelist:\n",
    "    if 'Stations' not in file_:\n",
    "        df = pd.read_csv(file_,index_col=None, header=0)\n",
    "        list_.append(df)\n",
    "rentals_df = pd.concat(list_)"
   ]
  },
  {
   "cell_type": "code",
   "execution_count": 15,
   "metadata": {
    "collapsed": false
   },
   "outputs": [
    {
     "data": {
      "text/html": [
       "<div>\n",
       "<table border=\"1\" class=\"dataframe\">\n",
       "  <thead>\n",
       "    <tr style=\"text-align: right;\">\n",
       "      <th></th>\n",
       "      <th>Trip id</th>\n",
       "      <th>Starttime</th>\n",
       "      <th>Stoptime</th>\n",
       "      <th>Bikeid</th>\n",
       "      <th>Tripduration</th>\n",
       "      <th>From station id</th>\n",
       "      <th>From station name</th>\n",
       "      <th>To station id</th>\n",
       "      <th>To station name</th>\n",
       "      <th>Usertype</th>\n",
       "    </tr>\n",
       "  </thead>\n",
       "  <tbody>\n",
       "    <tr>\n",
       "      <th>0</th>\n",
       "      <td>10676972</td>\n",
       "      <td>5/31/2015 6:54</td>\n",
       "      <td>5/31/2015 10:17</td>\n",
       "      <td>70166</td>\n",
       "      <td>12190</td>\n",
       "      <td>1018</td>\n",
       "      <td>37th St &amp; Butler St</td>\n",
       "      <td>1001</td>\n",
       "      <td>Forbes Ave &amp; Market Square</td>\n",
       "      <td>NaN</td>\n",
       "    </tr>\n",
       "    <tr>\n",
       "      <th>1</th>\n",
       "      <td>10677086</td>\n",
       "      <td>5/31/2015 6:57</td>\n",
       "      <td>5/31/2015 9:24</td>\n",
       "      <td>70368</td>\n",
       "      <td>8842</td>\n",
       "      <td>1018</td>\n",
       "      <td>37th St &amp; Butler St</td>\n",
       "      <td>1018</td>\n",
       "      <td>37th St &amp; Butler St</td>\n",
       "      <td>NaN</td>\n",
       "    </tr>\n",
       "    <tr>\n",
       "      <th>2</th>\n",
       "      <td>10677131</td>\n",
       "      <td>5/31/2015 6:58</td>\n",
       "      <td>5/31/2015 10:09</td>\n",
       "      <td>70354</td>\n",
       "      <td>11448</td>\n",
       "      <td>1019</td>\n",
       "      <td>42nd St &amp; Butler St</td>\n",
       "      <td>1019</td>\n",
       "      <td>42nd St &amp; Butler St</td>\n",
       "      <td>NaN</td>\n",
       "    </tr>\n",
       "    <tr>\n",
       "      <th>3</th>\n",
       "      <td>10677525</td>\n",
       "      <td>5/31/2015 7:08</td>\n",
       "      <td>5/31/2015 7:15</td>\n",
       "      <td>70232</td>\n",
       "      <td>452</td>\n",
       "      <td>1001</td>\n",
       "      <td>Forbes Ave &amp; Market Square</td>\n",
       "      <td>1001</td>\n",
       "      <td>Forbes Ave &amp; Market Square</td>\n",
       "      <td>NaN</td>\n",
       "    </tr>\n",
       "    <tr>\n",
       "      <th>4</th>\n",
       "      <td>10677886</td>\n",
       "      <td>5/31/2015 7:15</td>\n",
       "      <td>5/31/2015 9:27</td>\n",
       "      <td>70468</td>\n",
       "      <td>7866</td>\n",
       "      <td>1018</td>\n",
       "      <td>37th St &amp; Butler St</td>\n",
       "      <td>1018</td>\n",
       "      <td>37th St &amp; Butler St</td>\n",
       "      <td>NaN</td>\n",
       "    </tr>\n",
       "  </tbody>\n",
       "</table>\n",
       "</div>"
      ],
      "text/plain": [
       "    Trip id       Starttime         Stoptime  Bikeid  Tripduration  \\\n",
       "0  10676972  5/31/2015 6:54  5/31/2015 10:17   70166         12190   \n",
       "1  10677086  5/31/2015 6:57   5/31/2015 9:24   70368          8842   \n",
       "2  10677131  5/31/2015 6:58  5/31/2015 10:09   70354         11448   \n",
       "3  10677525  5/31/2015 7:08   5/31/2015 7:15   70232           452   \n",
       "4  10677886  5/31/2015 7:15   5/31/2015 9:27   70468          7866   \n",
       "\n",
       "   From station id           From station name  To station id  \\\n",
       "0             1018         37th St & Butler St           1001   \n",
       "1             1018         37th St & Butler St           1018   \n",
       "2             1019         42nd St & Butler St           1019   \n",
       "3             1001  Forbes Ave & Market Square           1001   \n",
       "4             1018         37th St & Butler St           1018   \n",
       "\n",
       "              To station name Usertype  \n",
       "0  Forbes Ave & Market Square      NaN  \n",
       "1         37th St & Butler St      NaN  \n",
       "2         42nd St & Butler St      NaN  \n",
       "3  Forbes Ave & Market Square      NaN  \n",
       "4         37th St & Butler St      NaN  "
      ]
     },
     "execution_count": 15,
     "metadata": {},
     "output_type": "execute_result"
    }
   ],
   "source": [
    "rentals_df.head()"
   ]
  },
  {
   "cell_type": "markdown",
   "metadata": {},
   "source": [
    "well that worked, but my concern is did I repeat the header row 12 times as internal content\n",
    "Time will tell when I start the Mean time analysis work\n",
    "Something you'll notice that in 2015, they didn't have the CustomerType field populated\n",
    "\n",
    "So what are we working with?\n"
   ]
  },
  {
   "cell_type": "code",
   "execution_count": 17,
   "metadata": {
    "collapsed": false
   },
   "outputs": [
    {
     "data": {
      "text/plain": [
       "Trip id               int64\n",
       "Starttime            object\n",
       "Stoptime             object\n",
       "Bikeid                int64\n",
       "Tripduration          int64\n",
       "From station id       int64\n",
       "From station name    object\n",
       "To station id         int64\n",
       "To station name      object\n",
       "Usertype             object\n",
       "dtype: object"
      ]
     },
     "execution_count": 17,
     "metadata": {},
     "output_type": "execute_result"
    }
   ],
   "source": [
    "rentals_df.dtypes"
   ]
  },
  {
   "cell_type": "markdown",
   "metadata": {},
   "source": [
    "based on on the Object types, I'm guessing the headers didn't get replicated or we would'nt have any Int64's"
   ]
  },
  {
   "cell_type": "code",
   "execution_count": 18,
   "metadata": {
    "collapsed": false
   },
   "outputs": [
    {
     "data": {
      "text/plain": [
       "(170531, 10)"
      ]
     },
     "execution_count": 18,
     "metadata": {},
     "output_type": "execute_result"
    }
   ],
   "source": [
    "rentals_df.shape"
   ]
  },
  {
   "cell_type": "markdown",
   "metadata": {},
   "source": [
    "170,531 rows and 10 columns\n"
   ]
  },
  {
   "cell_type": "markdown",
   "metadata": {},
   "source": [
    "As agreed upon for the first qustion to answer, we wanted to know the Mean Time for ride duration grouped by UserType\n",
    "At first I thought I had to conver the Timestamps from string to Date and then do a different in time caluclation to compare Start to Stop, but lookslike Trip duration is already included as a column\n",
    "Tripduration is in Seconds\n",
    "\n",
    "The hypotheis is, Subscribers are by definition more frequent users of the Bike share and thus have a purpose while Customers are enjoying the bikes and are more leasurely. So I expect Customers to hold the bikes for longer averages than Subscribers\n",
    "\n",
    "So lets just branch out into a new Variable with  usertype and Tripduration columns"
   ]
  },
  {
   "cell_type": "code",
   "execution_count": 27,
   "metadata": {
    "collapsed": false
   },
   "outputs": [],
   "source": [
    "tripmeantime_df = rentals_df[['Usertype','Tripduration']]"
   ]
  },
  {
   "cell_type": "markdown",
   "metadata": {},
   "source": [
    "now to find the mean duration by User Type.... \n",
    "\n",
    "Sort of found the answer here, though they wanted like a double average..\n",
    "https://stackoverflow.com/questions/30328646/python-pandas-group-by-in-group-by-and-average\n"
   ]
  },
  {
   "cell_type": "code",
   "execution_count": 33,
   "metadata": {
    "collapsed": false
   },
   "outputs": [
    {
     "data": {
      "text/html": [
       "<div>\n",
       "<table border=\"1\" class=\"dataframe\">\n",
       "  <thead>\n",
       "    <tr style=\"text-align: right;\">\n",
       "      <th></th>\n",
       "      <th>Tripduration</th>\n",
       "    </tr>\n",
       "    <tr>\n",
       "      <th>Usertype</th>\n",
       "      <th></th>\n",
       "    </tr>\n",
       "  </thead>\n",
       "  <tbody>\n",
       "    <tr>\n",
       "      <th>Customer</th>\n",
       "      <td>4921.921484</td>\n",
       "    </tr>\n",
       "    <tr>\n",
       "      <th>Subscriber</th>\n",
       "      <td>1230.911230</td>\n",
       "    </tr>\n",
       "  </tbody>\n",
       "</table>\n",
       "</div>"
      ],
      "text/plain": [
       "            Tripduration\n",
       "Usertype                \n",
       "Customer     4921.921484\n",
       "Subscriber   1230.911230"
      ]
     },
     "execution_count": 33,
     "metadata": {},
     "output_type": "execute_result"
    }
   ],
   "source": [
    "tripmeantime_df.groupby(['Usertype']).mean()"
   ]
  },
  {
   "cell_type": "raw",
   "metadata": {},
   "source": [
    "Sure enough, the hypothesis holds ture. Customers have a longer trip druation (4x longer) than Subscribers\n"
   ]
  }
 ],
 "metadata": {
  "kernelspec": {
   "display_name": "Python 2",
   "language": "python",
   "name": "python2"
  },
  "language_info": {
   "codemirror_mode": {
    "name": "ipython",
    "version": 2
   },
   "file_extension": ".py",
   "mimetype": "text/x-python",
   "name": "python",
   "nbconvert_exporter": "python",
   "pygments_lexer": "ipython2",
   "version": "2.7.13"
  }
 },
 "nbformat": 4,
 "nbformat_minor": 2
}
